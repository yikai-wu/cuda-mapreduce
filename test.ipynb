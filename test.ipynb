{
 "cells": [
  {
   "cell_type": "code",
   "execution_count": 1,
   "id": "d1a6424f-020c-4827-8615-16db18ce378e",
   "metadata": {},
   "outputs": [],
   "source": [
    "from numba import cuda\n",
    "import numpy as np"
   ]
  },
  {
   "cell_type": "code",
   "execution_count": 7,
   "id": "660086e8-90b2-4be3-a149-625a5d607945",
   "metadata": {},
   "outputs": [],
   "source": [
    "@cuda.jit\n",
    "def add_arrays_kernel(a, b, result):\n",
    "    \"\"\"\n",
    "    GPU kernel for adding two arrays element-wise.\n",
    "    \n",
    "    Args:\n",
    "    a (cuda.devicearray): First input array.\n",
    "    b (cuda.devicearray): Second input array.\n",
    "    result (cuda.devicearray): Array to store the result.\n",
    "    \"\"\"\n",
    "    # Calculate the thread's absolute position within the grid\n",
    "    idx = cuda.grid(1)\n",
    "    \n",
    "    # Ensure the thread index does not exceed the array length\n",
    "    if idx < a.size:\n",
    "        result[idx] = a[idx] + b[idx]\n",
    "\n",
    "def add_arrays(a, b):\n",
    "    \"\"\"\n",
    "    Add two arrays using GPU acceleration.\n",
    "    \n",
    "    Args:\n",
    "    a (np.ndarray): First input array.\n",
    "    b (np.ndarray): Second input array.\n",
    "    \n",
    "    Returns:\n",
    "    np.ndarray: Resultant array after addition.\n",
    "    \"\"\"\n",
    "    # Ensure input arrays are of the same size\n",
    "    assert a.shape == b.shape, \"Arrays must be of the same size\"\n",
    "    \n",
    "    # Create device arrays and copy data\n",
    "    d_a = cuda.to_device(a)\n",
    "    d_b = cuda.to_device(b)\n",
    "    d_result = cuda.device_array_like(d_a)  # Allocate space for result\n",
    "    \n",
    "    # Configure the blocks\n",
    "    threads_per_block = 8\n",
    "    blocks_per_grid = (a.size + threads_per_block - 1) // threads_per_block\n",
    "    \n",
    "    # Launch the kernel\n",
    "    add_arrays_kernel[blocks_per_grid, threads_per_block](d_a, d_b, d_result)\n",
    "    \n",
    "    # Copy the result back to the host\n",
    "    return d_result.copy_to_host()"
   ]
  },
  {
   "cell_type": "code",
   "execution_count": 8,
   "id": "55fceebd-6a27-45da-b07c-3bf23886bebd",
   "metadata": {},
   "outputs": [
    {
     "name": "stdout",
     "output_type": "stream",
     "text": [
      "Result of addition: [0.30520261 0.3265152  1.17173019 ... 1.06224932 1.16175546 0.9117495 ]\n"
     ]
    }
   ],
   "source": [
    "a = np.random.rand(1024)\n",
    "b = np.random.rand(1024)\n",
    "result = add_arrays(a, b)\n",
    "print(\"Result of addition:\", result)"
   ]
  },
  {
   "cell_type": "code",
   "execution_count": 13,
   "id": "5a5eb639-33a9-4b8a-ae1f-5c06e88a77b9",
   "metadata": {},
   "outputs": [],
   "source": [
    "a = \"EEFd\""
   ]
  },
  {
   "cell_type": "code",
   "execution_count": 14,
   "id": "61212184-d268-47ad-bb38-0a7b2ee3535a",
   "metadata": {},
   "outputs": [
    {
     "data": {
      "text/plain": [
       "4"
      ]
     },
     "execution_count": 14,
     "metadata": {},
     "output_type": "execute_result"
    }
   ],
   "source": [
    "len(a)"
   ]
  },
  {
   "cell_type": "code",
   "execution_count": 16,
   "id": "986e88d6-6317-4ea9-bfdd-3919056e0e9e",
   "metadata": {},
   "outputs": [
    {
     "data": {
      "text/plain": [
       "'ee'"
      ]
     },
     "execution_count": 16,
     "metadata": {},
     "output_type": "execute_result"
    }
   ],
   "source": [
    "a[0:2].lower()"
   ]
  },
  {
   "cell_type": "code",
   "execution_count": null,
   "id": "9c447d45-d474-4b1a-8c6c-99d4ef8e8647",
   "metadata": {},
   "outputs": [],
   "source": []
  }
 ],
 "metadata": {
  "kernelspec": {
   "display_name": "Python 3 (ipykernel)",
   "language": "python",
   "name": "python3"
  },
  "language_info": {
   "codemirror_mode": {
    "name": "ipython",
    "version": 3
   },
   "file_extension": ".py",
   "mimetype": "text/x-python",
   "name": "python",
   "nbconvert_exporter": "python",
   "pygments_lexer": "ipython3",
   "version": "3.11.9"
  }
 },
 "nbformat": 4,
 "nbformat_minor": 5
}
