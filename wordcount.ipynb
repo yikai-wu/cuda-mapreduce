{
 "cells": [
  {
   "cell_type": "code",
   "execution_count": 1,
   "id": "7a6ce561-f290-4081-af5c-6040b0e192a7",
   "metadata": {},
   "outputs": [],
   "source": [
    "import numpy as np\n",
    "import re\n",
    "from numba import cuda, types, uint32, int32, jit, njit\n",
    "import itertools\n",
    "from collections import Counter\n",
    "import string\n",
    "import time"
   ]
  },
  {
   "cell_type": "code",
   "execution_count": 2,
   "id": "6947edd5-41d6-4cd7-ab9f-fdddba20ac91",
   "metadata": {},
   "outputs": [],
   "source": [
    "with open(\"data/wikipedia_50GB/file9\", 'r', encoding='utf-8') as file:\n",
    "        text = file.read()"
   ]
  },
  {
   "cell_type": "code",
   "execution_count": 3,
   "id": "f64c7c2c-1812-4032-8757-aa453085dd1d",
   "metadata": {},
   "outputs": [],
   "source": [
    "@cuda.jit(device=True)\n",
    "def isalpha(c):\n",
    "    if c >= ord('A') and c <= ord('Z'):\n",
    "        return True\n",
    "    elif c >= ord('a') and c <= ord('z'):\n",
    "        return True\n",
    "    else:\n",
    "        return False\n",
    "\n",
    "@cuda.jit(device=True)\n",
    "def tolower(c):\n",
    "    if c >= ord('A') and c <= ord('Z'):\n",
    "        return c+32\n",
    "    else:\n",
    "        return c\n",
    "\n",
    "@cuda.jit(device=True)\n",
    "def hash_byte_array(input_array):\n",
    "    hash_value = np.uint32(5381) \n",
    "    for i in range(input_array.size):\n",
    "        hash_value = ((hash_value << 5) + hash_value) + np.uint32(input_array[i])\n",
    "    return hash_value\n",
    "\n",
    "@cuda.jit\n",
    "def map(text, counts, hash_start, hash_length, hash_size, chunk_size):\n",
    "    idx = cuda.grid(1)\n",
    "    if idx*chunk_size >= text.shape[0]:\n",
    "        return\n",
    "    chunk_end = (idx+1)*chunk_size\n",
    "    if chunk_end > text.shape[0]:\n",
    "        chunk_end = text.shape[0]\n",
    "\n",
    "    s = -1\n",
    "    t = idx*chunk_size\n",
    "    if idx == 0 or (not isalpha(text[t-1])):\n",
    "        if isalpha(text[t]):\n",
    "            s = t\n",
    "    else:\n",
    "        while (t < chunk_end and isalpha(text[t])):\n",
    "            t += 1\n",
    "    while (t < chunk_end):\n",
    "        if isalpha(text[t]) and (s == -1):\n",
    "                s = t\n",
    "        elif (not isalpha(text[t])) and (s != -1):\n",
    "            word = text[s:t]\n",
    "            for i in range(len(word)):\n",
    "                word[i] = tolower(word[i])\n",
    "            hash_value = hash_byte_array(word) % hash_size\n",
    "            cuda.atomic.add(counts, hash_value, 1)\n",
    "            cuda.atomic.exch(hash_start, hash_value, s)\n",
    "            cuda.atomic.exch(hash_length, hash_value, t-s)\n",
    "            s = -1\n",
    "        t += 1\n",
    "    if s != -1:\n",
    "        while (t < text.shape[0]) and (isalpha(text[t])):\n",
    "            t += 1\n",
    "        word = text[s:t]\n",
    "        for i in range(len(word)):\n",
    "            word[i] = tolower(word[i])\n",
    "        hash_value = hash_byte_array(word) % hash_size\n",
    "        cuda.atomic.add(counts, hash_value, 1)\n",
    "        cuda.atomic.exch(hash_start, hash_value, s)\n",
    "        cuda.atomic.exch(hash_length, hash_value, t-s)\n",
    "        s = -1"
   ]
  },
  {
   "cell_type": "code",
   "execution_count": 4,
   "id": "42e011a4-817a-4259-94e2-e390a4e1d545",
   "metadata": {},
   "outputs": [
    {
     "name": "stdout",
     "output_type": "stream",
     "text": [
      "2.958202600479126\n"
     ]
    }
   ],
   "source": [
    "start_time=time.time()\n",
    "hash_size = 65536\n",
    "chunk_size = 128\n",
    "\n",
    "char_array = np.frombuffer(text.encode('utf-8'), dtype=np.byte)\n",
    "\n",
    "d_text = cuda.to_device(char_array)\n",
    "\n",
    "d_counts = cuda.device_array(hash_size, dtype=np.int32)\n",
    "d_hash_start = cuda.device_array(hash_size, dtype=np.int32)\n",
    "d_hash_length = cuda.device_array(hash_size, dtype=np.int32)\n",
    "\n",
    "threads_per_block = 256\n",
    "blocks_per_grid = (len(char_array) + threads_per_block - 1) // threads_per_block\n",
    "\n",
    "\n",
    "map[blocks_per_grid, threads_per_block](d_text, d_counts, d_hash_start, d_hash_length, hash_size, chunk_size)\n",
    "\n",
    "\n",
    "\n",
    "char_array = d_text.copy_to_host()\n",
    "counts = d_counts.copy_to_host()\n",
    "hash_start = d_hash_start.copy_to_host()\n",
    "hash_length = d_hash_length.copy_to_host()\n",
    "end_time = time.time()\n",
    "print(end_time-start_time)"
   ]
  },
  {
   "cell_type": "code",
   "execution_count": 7,
   "id": "10a43dad-c8a1-4fb5-a8a5-ff71b231e29b",
   "metadata": {},
   "outputs": [
    {
     "name": "stdout",
     "output_type": "stream",
     "text": [
      "82.14207768440247\n",
      "{'title': 3560369, 'wikipedia': 3134798, 'general': 72583, 'disclaimer': 214930, 'disclaimers': 71656, 'a': 10847552, 'li': 2597008, 'ul': 606332, 'div': 3232705, 'body': 144046, 'html': 3287356, 'doctype': 71756, 'public': 73034, 'w': 445402, 'c': 1289100, 'dtd': 215280, 'xhtml': 287033, 'transitional': 143534, 'en': 942504, 'http': 2947564, 'www': 1352862, 'org': 1598375, 'tr': 273747, 'xmlns': 71755, 'xml': 71850, 'lang': 144173, 'dir': 82642, 'ltr': 82634, 'head': 143805, 'meta': 149495, 'equiv': 143511, 'content': 668479, 'type': 1154485, 'text': 2251624, 'charset': 71756, 'utf': 143406, 'headlinks': 71635, 'removed': 110018, 'link': 179329, 'rel': 1077915, 'shortcut': 71657, 'icon': 95313, 'href': 4729256, 'misc': 214974, 'favicon': 71635, 'ico': 71635, 'user': 1922210, 'talk': 764100, 'the': 1229258, 'free': 383283, 'encyclopedia': 202963, 'style': 1097464, 'css': 1002903, 'cdata': 147010, 'import': 501458, 'skins': 788030, 'offline': 286572, 'main': 218436, 'stylesheet': 71636, 'media': 73360, 'print': 71803, 'common': 287116, 'commonprint': 71635, 'if': 667301, 'lt': 72770, 'ie': 501518, 'monobook': 214910, 'fixes': 214908, 'endif': 286540, 'script': 1010716, 'javascript': 576896, 'src': 765500, 'iefixes': 71635, 'js': 429852, 'imagetoolbar': 71635, 'no': 84630, 'wikibits': 71635, 'md': 71734, 'lookup': 76057, 'raw': 286705, 'gen': 143293, 'mediawiki': 358546, 'ecommon': 71642, 'emonobook': 71635, 'class': 3060715, 'ns': 71691, 'id': 2903302, 'globalwrapper': 71635, 'column': 214960, 'name': 293598, 'top': 75549, 'contenttop': 71635, 'h': 1130577, 'firstheading': 71635, 'bodycontent': 71635, 'sitesub': 71635, 'from': 203403, 'contentsub': 71635, 'start': 73887, 'p': 1567121}\n"
     ]
    }
   ],
   "source": [
    "def cpu_word_count(text):\n",
    "    start_time = time.time()\n",
    "    text = text.lower()\n",
    "    words = re.findall(r'[a-zA-Z]+', text)\n",
    "    word_counts = {}\n",
    "    for word in words:\n",
    "        if word in word_counts:\n",
    "            word_counts[word] += 1\n",
    "        else:\n",
    "            word_counts[word] = 1\n",
    "    end_time = time.time()\n",
    "    cpu_time = end_time-start_time\n",
    "    return word_counts, cpu_time\n",
    "    \n",
    "word_counts, cpu_time = cpu_word_count(text)\n",
    "print(cpu_time)\n",
    "print(dict(itertools.islice(word_counts.items(), 100)))\n",
    "#print(\"Word Frequencies:\", frequencies)"
   ]
  },
  {
   "cell_type": "code",
   "execution_count": 27,
   "id": "2de9a3ed-78e2-4ee8-b2e5-6a18becf776a",
   "metadata": {},
   "outputs": [
    {
     "name": "stdout",
     "output_type": "stream",
     "text": [
      "51.444968700408936\n"
     ]
    }
   ],
   "source": [
    "def fast_word_count(text):\n",
    "    start_time = time.time()\n",
    "    text = text.lower()\n",
    "    \n",
    "    # Use regular expressions to efficiently find all words\n",
    "    words = re.findall(r'[a-zA-Z]+', text)\n",
    "    \n",
    "    # Count each word using Counter, which is highly optimized for this task\n",
    "    word_counts = Counter(words)\n",
    "    end_time = time.time()\n",
    "    cpu_time = end_time-start_time\n",
    "    return word_counts, cpu_time\n",
    "\n",
    "word_counts, cpu_time =fast_word_count(text)\n",
    "print(cpu_time)"
   ]
  },
  {
   "cell_type": "code",
   "execution_count": 28,
   "id": "b77205c3-1330-4776-a788-81aeca397eec",
   "metadata": {},
   "outputs": [
    {
     "name": "stdout",
     "output_type": "stream",
     "text": [
      "[('a', 10847552), ('href', 4729256), ('title', 3560369), ('html', 3287356), ('div', 3232705), ('wikipedia', 3134798), ('class', 3060715), ('http', 2947564), ('id', 2903302), ('articles', 2744422), ('li', 2597008), ('text', 2251624), ('user', 1922210), ('org', 1598375), ('p', 1567121), ('n', 1536527), ('f', 1399088), ('www', 1352862), ('c', 1289100), ('b', 1237756), ('e', 1231657), ('the', 1229258), ('type', 1154485), ('h', 1130577), ('style', 1097464), ('ip', 1090719), ('rel', 1077915), ('script', 1010716), ('css', 1002903), ('external', 953003), ('en', 942504), ('nofollow', 940582), ('to', 932686), ('whois', 921209), ('skins', 788030), ('src', 765500), ('talk', 764100), ('o', 728243), ('you', 713455), ('net', 710697), ('wiki', 681324), ('svg', 678886), ('content', 668479), ('if', 667301), ('em', 665817), ('span', 662698), ('of', 641393), ('ul', 606332), ('amp', 597699), ('i', 593601), ('javascript', 576896), ('s', 576322), ('bin', 569015), ('d', 543913), ('page', 515208), ('query', 508237), ('ie', 501518), ('import', 501458), ('png', 468122), ('image', 464181), ('by', 462513), ('com', 459309), ('w', 445402), ('portal', 433045), ('js', 429852), ('address', 429381), ('r', 413493), ('for', 403731), ('information', 391921), ('free', 383283), ('u', 375377), ('php', 367726), ('td', 363497), ('is', 362110), ('an', 361746), ('mediawiki', 358546), ('portlet', 358501), ('help', 358110), ('about', 357500), ('this', 354665), ('border', 350935), ('edit', 348437), ('special', 347571), ('and', 346041), ('img', 335788), ('alt', 335648), ('br', 325917), ('your', 315125), ('name', 293598), ('px', 292628), ('cgi', 289533), ('organization', 287696), ('may', 287545), ('toolserver', 287322), ('common', 287116), ('xhtml', 287033), ('raw', 286705), ('internal', 286603), ('wikimediafoundation', 286600), ('offline', 286572)]\n"
     ]
    }
   ],
   "source": [
    "print(word_counts.most_common(100))"
   ]
  },
  {
   "cell_type": "code",
   "execution_count": 9,
   "id": "9b32b250-8122-4835-a2a2-8b0f2acad5b7",
   "metadata": {},
   "outputs": [
    {
     "name": "stdout",
     "output_type": "stream",
     "text": [
      "{'a': 10847555, 'href': 4729256, 'title': 3560732, 'html': 3287361, 'div': 3232825, 'wikipedia': 3134798, 'class': 3060769, 'http': 2947564, 'id': 2903468, 'articles': 2744422, 'li': 2598177, 'text': 2251698, 'user': 1922284, 'org': 1598757, 'p': 1568561, 'n': 1536527, 'f': 1399091, 'www': 1352867, 'c': 1289103, 'b': 1237757, 'e': 1231666, 'the': 1229258, 'type': 1154485, 'h': 1130580, 'style': 1097564, 'ip': 1091576, 'rel': 1077927, 'script': 1010716, 'css': 1002968, 'external': 953105, 'en': 942722, 'nofollow': 940637, 'to': 932689, 'whois': 921210, 'skins': 788071, 'src': 765510, 'talk': 764113, 'o': 728266, 'you': 713470, 'net': 710714, 'wiki': 681324, 'svg': 678887, 'content': 668687, 'if': 667302, 'em': 665865, 'span': 662704, 'of': 641398, 'ul': 606344, 'amp': 597718, 'i': 593581, 'about': 592784, 'javascript': 576901, 's': 576416, 'bin': 569015, 'd': 543928, 'page': 515262, 'query': 508237, 'ie': 501521, 'import': 501458, 'png': 468123, 'image': 464182, 'by': 462513, 'com': 459540, 'w': 445427, 'portal': 433045, 'js': 429871, 'address': 429382, 'r': 413506, 'for': 403831, 'information': 391924, 'free': 383283, 'u': 375377, 'php': 367731, 'td': 363511, 'is': 362122, 'an': 361746, 'mediawiki': 358546, 'portlet': 358542, 'help': 358126, 'this': 354667, 'border': 350935, 'edit': 348449, 'special': 347578, 'and': 346053, 'img': 335793, 'alt': 335664, 'br': 325919, 'your': 315140, 'name': 293823, 'px': 292820, 'cgi': 289533, 'organization': 287699, 'may': 287556, 'toolserver': 287331, 'common': 287138, 'xhtml': 287033, 'raw': 286705, 'internal': 286620, 'wikimediafoundation': 286600, 'endif': 286600}\n"
     ]
    }
   ],
   "source": [
    "indices = np.argsort(counts)[::-1]\n",
    "gpu_dict = {}\n",
    "for i in range(100):\n",
    "    idx = indices[i]\n",
    "    word = char_array[hash_start[idx]:hash_start[idx]+hash_length[idx]]\n",
    "    word = word.tobytes().decode('utf-8')\n",
    "    gpu_dict[word] = counts[idx]\n",
    "print(gpu_dict)"
   ]
  },
  {
   "cell_type": "code",
   "execution_count": 24,
   "id": "3ccecb49-5976-4ffa-81da-268d40d96ceb",
   "metadata": {},
   "outputs": [
    {
     "name": "stdout",
     "output_type": "stream",
     "text": [
      "105\n"
     ]
    }
   ],
   "source": [
    "print(char_array[2])"
   ]
  },
  {
   "cell_type": "code",
   "execution_count": null,
   "id": "47ddcfa7-85e6-462e-bf87-b1bbd8c3012d",
   "metadata": {},
   "outputs": [],
   "source": []
  },
  {
   "cell_type": "code",
   "execution_count": null,
   "id": "b9c9cbf1-b952-4098-b922-e3d58c53b813",
   "metadata": {},
   "outputs": [],
   "source": []
  }
 ],
 "metadata": {
  "kernelspec": {
   "display_name": "Python 3 (ipykernel)",
   "language": "python",
   "name": "python3"
  },
  "language_info": {
   "codemirror_mode": {
    "name": "ipython",
    "version": 3
   },
   "file_extension": ".py",
   "mimetype": "text/x-python",
   "name": "python",
   "nbconvert_exporter": "python",
   "pygments_lexer": "ipython3",
   "version": "3.11.9"
  }
 },
 "nbformat": 4,
 "nbformat_minor": 5
}
