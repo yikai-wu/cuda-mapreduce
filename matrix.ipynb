{
 "cells": [
  {
   "cell_type": "code",
   "execution_count": 1,
   "metadata": {},
   "outputs": [],
   "source": [
    "import numpy as np\n",
    "from numba import cuda, jit, float32\n",
    "import time\n",
    "import math"
   ]
  },
  {
   "cell_type": "code",
   "execution_count": 2,
   "metadata": {},
   "outputs": [],
   "source": [
    "def matrix_multiply_cpu(A, B):\n",
    "    cpu_start=time.time()\n",
    "   \n",
    "    C=np.dot(A, B)\n",
    "    cpu_time=time.time()-cpu_start\n",
    "    return C, cpu_time"
   ]
  },
  {
   "cell_type": "code",
   "execution_count": 3,
   "metadata": {},
   "outputs": [],
   "source": [
    "\n",
    "TPB = 32  # Tile size and threads per block\n",
    "\n",
    "@cuda.jit\n",
    "def tiled_matrix_mult(A, B, C):\n",
    "    # Shared memory for tiles\n",
    "    tile_A = cuda.shared.array((TPB, TPB), dtype=float32)\n",
    "    tile_B = cuda.shared.array((TPB, TPB), dtype=float32)\n",
    "\n",
    "    x, y = cuda.grid(2)\n",
    "    tx, ty = cuda.threadIdx.x, cuda.threadIdx.y\n",
    "    bx, by = cuda.blockIdx.x, cuda.blockIdx.y\n",
    "\n",
    "    row, col = y, x\n",
    "    if row >= C.shape[0] or col >= C.shape[1]:\n",
    "        return\n",
    "\n",
    "    sum = 0.0\n",
    "    for i in range((A.shape[1] + TPB - 1) // TPB):\n",
    "        # Load in bounds tiles into shared memory\n",
    "        if i * TPB + tx < A.shape[1] and row < A.shape[0]:\n",
    "            tile_A[ty, tx] = A[row, i * TPB + tx]\n",
    "        else:\n",
    "            tile_A[ty, tx] = 0\n",
    "\n",
    "        if i * TPB + ty < B.shape[0] and col < B.shape[1]:\n",
    "            tile_B[ty, tx] = B[i * TPB + ty, col]\n",
    "        else:\n",
    "            tile_B[ty, tx] = 0\n",
    "\n",
    "        cuda.syncthreads()\n",
    "\n",
    "        for k in range(TPB):\n",
    "            sum += tile_A[ty, k] * tile_B[k, tx]\n",
    "\n",
    "        cuda.syncthreads()\n",
    "\n",
    "    if row < C.shape[0] and col < C.shape[1]:\n",
    "        C[row, col] = sum\n",
    "\n",
    "def matrix_multiply_gpu(A, B):\n",
    "    A_device = cuda.to_device(A)\n",
    "    B_device = cuda.to_device(B)\n",
    "    C_device = cuda.device_array((A.shape[0], B.shape[1]), dtype=np.float32)\n",
    "\n",
    "    grid_dims = ((A.shape[0] + TPB - 1) // TPB, (B.shape[1] + TPB - 1) // TPB)\n",
    "    block_dims = (TPB, TPB)\n",
    "\n",
    "    start_time = time.time()\n",
    "    tiled_matrix_mult[grid_dims, block_dims](A_device, B_device, C_device)\n",
    "    cuda.synchronize()\n",
    "    gpu_time = time.time() - start_time\n",
    "\n",
    "    return C_device.copy_to_host(), gpu_time"
   ]
  },
  {
   "cell_type": "code",
   "execution_count": 4,
   "metadata": {},
   "outputs": [],
   "source": [
    "def random_matrix(n):\n",
    "    A = np.random.default_rng().standard_normal(size=(n,n), dtype='float32')\n",
    "    B = np.random.default_rng().standard_normal(size=(n,n), dtype='float32')\n",
    "    return A, B"
   ]
  },
  {
   "cell_type": "code",
   "execution_count": 5,
   "metadata": {},
   "outputs": [
    {
     "name": "stdout",
     "output_type": "stream",
     "text": [
      "(10000, 10000)\n",
      "(10000, 10000)\n",
      "CPU time: 2.3269824981689453s, GPU time: 11.393534421920776s\n"
     ]
    }
   ],
   "source": [
    "A, B = random_matrix(10000)\n",
    "print(A.shape)\n",
    "print(B.shape)\n",
    "\n",
    "\n",
    "    # Perform matrix multiplication on the CPU\n",
    "cpu_start=time.time()\n",
    "total_kernel_time=0.0\n",
    "C_cpu, cpu_time = matrix_multiply_cpu(A, B)\n",
    "total_cpu_time=time.time()-cpu_start\n",
    "gpu_start=time.time()\n",
    "C, gpu_time = matrix_multiply_gpu(A, B)\n",
    "total_gpu_time=time.time()-gpu_start\n",
    "\n",
    "print(f\"CPU time: {total_cpu_time}s, GPU time: {total_gpu_time}s\")"
   ]
  }
 ],
 "metadata": {
  "kernelspec": {
   "display_name": "MapReduce_cuda",
   "language": "python",
   "name": "python3"
  },
  "language_info": {
   "codemirror_mode": {
    "name": "ipython",
    "version": 3
   },
   "file_extension": ".py",
   "mimetype": "text/x-python",
   "name": "python",
   "nbconvert_exporter": "python",
   "pygments_lexer": "ipython3",
   "version": "3.11.9"
  }
 },
 "nbformat": 4,
 "nbformat_minor": 2
}
