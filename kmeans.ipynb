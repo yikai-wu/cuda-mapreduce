{
 "cells": [
  {
   "cell_type": "code",
   "execution_count": 1,
   "id": "5856a414-dd7a-4e19-84f9-61cdbf554ebf",
   "metadata": {},
   "outputs": [],
   "source": [
    "import numpy as np\n",
    "import warnings\n",
    "import numba\n",
    "import time\n",
    "from sklearn.cluster import KMeans\n",
    "from numba import cuda\n",
    "import argparse"
   ]
  },
  {
   "cell_type": "code",
   "execution_count": 5,
   "id": "60848df2-d067-499b-8602-e52f85964cae",
   "metadata": {},
   "outputs": [],
   "source": [
    "@cuda.jit\n",
    "def assign_labels(data, centroids, labels):\n",
    "    idx = cuda.grid(1)\n",
    "    if idx < data.shape[0]:\n",
    "        min_dist = np.inf\n",
    "        for i in range(centroids.shape[0]):\n",
    "            dist = 0.0\n",
    "            for j in range(data.shape[1]):\n",
    "                temp = data[idx, j] - centroids[i, j]\n",
    "                dist += temp * temp\n",
    "            if dist < min_dist:\n",
    "                min_dist = dist\n",
    "                labels[idx] = i\n",
    "\n",
    "@cuda.jit\n",
    "def update_centroids(data, centroids, labels, counts):\n",
    "    idx = cuda.grid(1)\n",
    "    if idx < data.shape[0]:\n",
    "        label = labels[idx]\n",
    "        for j in range(data.shape[1]):\n",
    "            cuda.atomic.add(centroids, (label, j), data[idx, j])\n",
    "        cuda.atomic.add(counts, label, 1)\n",
    "\n",
    "@cuda.jit\n",
    "def finalize_centroids(centroids, counts):\n",
    "    idx = cuda.grid(1)\n",
    "    num_centroids = centroids.shape[0]\n",
    "    num_features = centroids.shape[1]\n",
    "    total_elements = num_centroids * num_features\n",
    "    \n",
    "    if idx < total_elements:\n",
    "        centroid_idx = idx // num_features  # Determine which centroid\n",
    "        feature_idx = idx % num_features    # Determine which feature of the centroid\n",
    "        \n",
    "        if counts[centroid_idx] > 0:\n",
    "            centroids[centroid_idx, feature_idx] /= counts[centroid_idx]\n",
    "\n",
    "@cuda.jit(fastmath=True)\n",
    "def fill_zeros(arr):\n",
    "    idx = cuda.grid(1)\n",
    "    if idx < arr.size:\n",
    "        arr[idx] = 0\n",
    "\n",
    "def gpu_kmeans(data, k=3, max_iter=300):\n",
    "    start_time=time.time()\n",
    "    \n",
    "    threads_per_block = 128\n",
    "    num_points = data.shape[0]\n",
    "    blocks_per_grid_points = (num_points + threads_per_block - 1) // threads_per_block\n",
    "    \n",
    "    blocks_per_grid_centroids = (k * data.shape[1] + threads_per_block - 1) // threads_per_block\n",
    "    blocks_per_grid_counts = (k + threads_per_block - 1) // threads_per_block\n",
    "\n",
    "    data_device = cuda.to_device(data)\n",
    "    centroids = np.random.rand(k, data.shape[1]).astype(np.float32)\n",
    "    centroids_device = cuda.to_device(centroids)\n",
    "    labels = np.zeros(num_points, dtype=np.int32)\n",
    "    labels_device = cuda.to_device(labels)\n",
    "    counts = np.zeros(k, dtype=np.int32)\n",
    "    counts_device = cuda.to_device(counts)\n",
    "    cuda.synchronize()\n",
    "    kernel_start_time=time.time()\n",
    "    for _ in range(max_iter):\n",
    "        assign_labels[blocks_per_grid_points, threads_per_block](data_device, centroids_device, labels_device)\n",
    "        fill_zeros[blocks_per_grid_centroids, threads_per_block](centroids_device.ravel())\n",
    "        fill_zeros[blocks_per_grid_counts, threads_per_block](counts_device)\n",
    "        update_centroids[blocks_per_grid_points, threads_per_block](data_device, centroids_device, labels_device, counts_device)\n",
    "        finalize_centroids[blocks_per_grid_centroids, threads_per_block](centroids_device, counts_device)\n",
    "    cuda.synchronize()\n",
    "    kernel_end_time=time.time()\n",
    "    kernel_time=kernel_end_time-kernel_start_time\n",
    "        \n",
    "    centroids = centroids_device.copy_to_host()\n",
    "    labels = labels_device.copy_to_host()\n",
    "    end_time=time.time()\n",
    "    gpu_time=end_time-start_time\n",
    "    return centroids, labels, gpu_time, kernel_time\n",
    "\n",
    "def cpu_kmeans(data, k=5, max_iter=300):\n",
    "    start_time = time.time()\n",
    "    kmeans = KMeans(n_clusters=k, max_iter=max_iter, n_init=10)\n",
    "    kmeans.fit(data)\n",
    "    centroids = kmeans.cluster_centers_\n",
    "    labels = kmeans.labels_\n",
    "    end_time = time.time()\n",
    "    cpu_time = end_time-start_time\n",
    "    return centroids, labels, cpu_time"
   ]
  },
  {
   "cell_type": "code",
   "execution_count": 6,
   "id": "d4e09547-a338-40dc-8994-2abdd66a057e",
   "metadata": {},
   "outputs": [
    {
     "name": "stdout",
     "output_type": "stream",
     "text": [
      "CPU time: 4.744860410690308s, GPU time: 1.7323057651519775s, Kernel time: 0.9856407642364502s\n",
      "CPU results:\n",
      "CPU Centroids: [[0.49292195 0.5009731  0.5079429  ... 0.48896664 0.50180995 0.48507613]\n",
      " [0.49806246 0.49994147 0.4973255  ... 0.49169034 0.50716573 0.50768673]\n",
      " [0.52181137 0.51935315 0.515785   ... 0.46911243 0.48909786 0.5068382 ]\n",
      " [0.50181496 0.48508802 0.49627584 ... 0.5098018  0.51103806 0.5166171 ]\n",
      " [0.49398053 0.49230936 0.5117607  ... 0.5252925  0.4955201  0.4885505 ]]\n",
      "CPU Labels: [0 1 1 ... 1 4 0]\n",
      "GPU results:\n",
      "GPU Centroids: [[0.495935   0.47987485 0.50574625 ... 0.49643004 0.5170477  0.48738566]\n",
      " [0.5176254  0.5220244  0.49564996 ... 0.48860392 0.49921325 0.5110142 ]\n",
      " [0.4826264  0.49215248 0.52044976 ... 0.49595448 0.48970884 0.51041704]\n",
      " [0.49717364 0.5054106  0.49757862 ... 0.48821878 0.4842077  0.49909568]\n",
      " [0.5034721  0.48910856 0.51189625 ... 0.5291474  0.5185405  0.48453608]]\n",
      "GPU Labels: [3 2 3 ... 3 1 0]\n"
     ]
    }
   ],
   "source": [
    "if __name__ == \"__main__\":\n",
    "    warnings.filterwarnings('ignore', category=numba.NumbaPerformanceWarning)\n",
    "        \n",
    "    np.random.seed(42)\n",
    "    data = np.random.rand(10000, 2000).astype(np.float32)\n",
    "    cpu_centroids, cpu_labels, cpu_time = cpu_kmeans(data, k=5, max_iter=300)\n",
    "    gpu_centroids, gpu_labels, gpu_time, kernel_time = gpu_kmeans(data, k=5, max_iter=300)\n",
    "    print(f\"CPU time: {cpu_time}s, GPU time: {gpu_time}s, Kernel time: {kernel_time}s\")\n",
    "    print(\"CPU results:\")\n",
    "    print(\"CPU Centroids:\", cpu_centroids)\n",
    "    print(\"CPU Labels:\", cpu_labels)\n",
    "    print(\"GPU results:\")\n",
    "    print(\"GPU Centroids:\", gpu_centroids)\n",
    "    print(\"GPU Labels:\", gpu_labels)"
   ]
  },
  {
   "cell_type": "code",
   "execution_count": null,
   "id": "01cead0e-c051-4d0c-ab90-27b31363d0cd",
   "metadata": {},
   "outputs": [],
   "source": [
    "print(centroids)"
   ]
  },
  {
   "cell_type": "code",
   "execution_count": 31,
   "id": "54b8905d-7df1-4c4f-a256-b98a662396ad",
   "metadata": {},
   "outputs": [
    {
     "name": "stdout",
     "output_type": "stream",
     "text": [
      "[3 8 9 ... 8 9 1]\n"
     ]
    }
   ],
   "source": [
    "print(labels)"
   ]
  },
  {
   "cell_type": "code",
   "execution_count": null,
   "id": "65d99361-1e0d-4dc9-bb57-a36bf6805103",
   "metadata": {},
   "outputs": [],
   "source": []
  }
 ],
 "metadata": {
  "kernelspec": {
   "display_name": "Python 3 (ipykernel)",
   "language": "python",
   "name": "python3"
  },
  "language_info": {
   "codemirror_mode": {
    "name": "ipython",
    "version": 3
   },
   "file_extension": ".py",
   "mimetype": "text/x-python",
   "name": "python",
   "nbconvert_exporter": "python",
   "pygments_lexer": "ipython3",
   "version": "3.11.9"
  }
 },
 "nbformat": 4,
 "nbformat_minor": 5
}
